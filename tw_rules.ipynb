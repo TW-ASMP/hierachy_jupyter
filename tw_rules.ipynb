{
  "nbformat": 4,
  "nbformat_minor": 0,
  "metadata": {
    "colab": {
      "provenance": []
    },
    "kernelspec": {
      "name": "python3",
      "display_name": "Python 3"
    },
    "language_info": {
      "name": "python"
    }
  },
  "cells": [
    {
      "cell_type": "code",
      "execution_count": null,
      "metadata": {
        "id": "ELLPCW8AWlkS"
      },
      "outputs": [],
      "source": [
        "import yaml\n",
        "import pandas as pd\n"
      ]
    },
    {
      "cell_type": "code",
      "source": [
        "# Function to recursively search for \"TW_rule\" properties\n",
        "def find_TW_rule_properties(data, parent_key=\"\"):\n",
        "    properties = []\n",
        "    if isinstance(data, dict):\n",
        "        for key, value in data.items():\n",
        "            full_key = f\"{parent_key}.{key}\" if parent_key else key\n",
        "            if key == 'TW_rule':\n",
        "                properties.append((full_key, value))\n",
        "            elif isinstance(value, (dict, list)):\n",
        "                properties.extend(find_TW_rule_properties(value, full_key))\n",
        "    elif isinstance(data, list):\n",
        "        for i, item in enumerate(data):\n",
        "            properties.extend(find_TW_rule_properties(item, f\"{parent_key}[i]\"))\n",
        "    return properties\n",
        "\n",
        "# Function to extract TW_rule properties from a given file\n",
        "def extract_TW_rules_from_file(file_path):\n",
        "    with open(file_path, 'r') as file:\n",
        "        data = yaml.safe_load(file)\n",
        "    return find_TW_rule_properties(data)\n"
      ],
      "metadata": {
        "id": "t88JH2_BWoIg"
      },
      "execution_count": null,
      "outputs": []
    },
    {
      "cell_type": "code",
      "source": [
        "# Paths to the YAML files\n",
        "role_file_path = '/mnt/data/02_role.yml'\n",
        "asset_file_path = '/mnt/data/01_asset.yml'\n",
        "\n",
        "# Extract TW_rule properties from the files\n",
        "role_TW_rules = extract_TW_rules_from_file(role_file_path)\n",
        "asset_TW_rules = extract_TW_rules_from_file(asset_file_path)\n",
        "\n",
        "# Convert extracted data into DataFrames\n",
        "role_df = pd.DataFrame(role_TW_rules, columns=['Path', 'TW_rule'])\n",
        "asset_df = pd.DataFrame(asset_TW_rules, columns=['Path', 'TW_rule'])\n"
      ],
      "metadata": {
        "id": "h9sbb6sXWpea"
      },
      "execution_count": null,
      "outputs": []
    },
    {
      "cell_type": "code",
      "source": [
        "# Display role TW_rule properties\n",
        "print(\"Role TW Rules:\")\n",
        "display(role_df)\n",
        "\n",
        "# Display asset TW_rule properties\n",
        "print(\"\\nAsset TW Rules:\")\n",
        "display(asset_df)\n"
      ],
      "metadata": {
        "id": "RJTIKMMKWsMI"
      },
      "execution_count": null,
      "outputs": []
    },
    {
      "cell_type": "code",
      "source": [
        "# Save the DataFrames to CSV files\n",
        "role_df.to_csv('role_TW_rules.csv', index=False)\n",
        "asset_df.to_csv('asset_TW_rules.csv', index=False)\n"
      ],
      "metadata": {
        "id": "5ESSzZNvWvdf"
      },
      "execution_count": null,
      "outputs": []
    }
  ]
}